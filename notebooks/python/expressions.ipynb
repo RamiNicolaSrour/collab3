{
  "cells": [
    {
      "cell_type": "markdown",
      "id": "loved-gallery",
      "metadata": {
        "id": "loved-gallery"
      },
      "source": [
        "# Expressions"
      ]
    },
    {
      "cell_type": "markdown",
      "id": "false-documentary",
      "metadata": {
        "id": "false-documentary"
      },
      "source": [
        "## Count Seconds in a Decade\n",
        "Write a Python program to calculate the number of seconds in 10 years. Assume that we have 2 leap years in this period. Assign the result into a variable named `seconds_in_10_years`."
      ]
    },
    {
      "cell_type": "code",
      "execution_count": 8,
      "id": "prescribed-faculty",
      "metadata": {
        "id": "prescribed-faculty",
        "outputId": "be587549-94fe-463e-a7e6-0e3c2e6e244f",
        "colab": {
          "base_uri": "https://localhost:8080/"
        }
      },
      "outputs": [
        {
          "output_type": "stream",
          "name": "stdout",
          "text": [
            "seconds_in_10_years: 315532800\n"
          ]
        }
      ],
      "source": [
        "days_in_10_years = (365 * 10) + 2\n",
        "seconds_in_day = 24 * 60 * 60\n",
        "seconds_in_10_years = seconds_in_day * days_in_10_years\n",
        "print(f\"seconds_in_10_years:\", seconds_in_10_years)"
      ]
    },
    {
      "cell_type": "markdown",
      "id": "sealed-mouth",
      "metadata": {
        "id": "sealed-mouth"
      },
      "source": [
        "## Compute the Area of a Circle\n",
        "Write a Python program that computes the area of a circle based on a given radius. The area of circle can be computed by the following formula: $ a = \\pi r^2 $."
      ]
    },
    {
      "cell_type": "code",
      "execution_count": 9,
      "id": "amber-macedonia",
      "metadata": {
        "id": "amber-macedonia",
        "outputId": "4db5e7d5-6f5e-4415-c55a-522342f3d0d6",
        "colab": {
          "base_uri": "https://localhost:8080/"
        }
      },
      "outputs": [
        {
          "output_type": "stream",
          "name": "stdout",
          "text": [
            "50.264\n"
          ]
        }
      ],
      "source": [
        "r = 4\n",
        "pi = 3.1415\n",
        "a = pi * r ** 2\n",
        "print(a)"
      ]
    },
    {
      "cell_type": "markdown",
      "id": "attached-cleaning",
      "metadata": {
        "id": "attached-cleaning"
      },
      "source": [
        "## Compute Maximum of Numbers\n",
        "Write a Python program that computes the maximum of two inputs: \n",
        "- The first input should be the absolute of -4. \n",
        "- The second input should be the length of the string `\"abc\"`."
      ]
    },
    {
      "cell_type": "code",
      "execution_count": 10,
      "id": "aware-resort",
      "metadata": {
        "id": "aware-resort",
        "outputId": "62a4499b-c159-4fc7-836d-27cb1ede2b70",
        "colab": {
          "base_uri": "https://localhost:8080/"
        }
      },
      "outputs": [
        {
          "output_type": "execute_result",
          "data": {
            "text/plain": [
              "4"
            ]
          },
          "metadata": {},
          "execution_count": 10
        }
      ],
      "source": [
        "max(abs(-4) , len(\"abc\"))"
      ]
    },
    {
      "cell_type": "markdown",
      "id": "cooperative-request",
      "metadata": {
        "id": "cooperative-request"
      },
      "source": [
        "## Compute Euclidean Distance\n",
        "Write a Python program to compute the Euclidean distance between two given points $ (x_1, y_1) $ and $ (x_2, y_2) $, which is $ \\sqrt{(x_1 - x_2)^2 + (y_1 - y_2)^2} $."
      ]
    },
    {
      "cell_type": "code",
      "execution_count": 12,
      "id": "killing-shore",
      "metadata": {
        "id": "killing-shore",
        "outputId": "d3c2a1d0-e94a-450c-b13c-83fdaa3b6452",
        "colab": {
          "base_uri": "https://localhost:8080/"
        }
      },
      "outputs": [
        {
          "output_type": "stream",
          "name": "stdout",
          "text": [
            "1.4142135623730951\n"
          ]
        }
      ],
      "source": [
        "import math\n",
        "x1 = 3\n",
        "x2 = 2\n",
        "y1 = 3\n",
        "y2 = 2\n",
        "a = math.sqrt((x1 - x2)** 2 + (y1 - y2)**2)\n",
        "print(a)"
      ]
    },
    {
      "cell_type": "markdown",
      "id": "color-texas",
      "metadata": {
        "id": "color-texas"
      },
      "source": [
        "## Convert Fahrenheit to Celsius \n",
        "Write a Python program to convert fahrenheit to celsius based on the the following formula: $ C = (F - 32) \\times \\frac{5}{9}. $"
      ]
    },
    {
      "cell_type": "code",
      "execution_count": 13,
      "id": "broad-ordinary",
      "metadata": {
        "id": "broad-ordinary",
        "outputId": "f3bd16cf-613b-4069-b704-cfe5790ba4ba",
        "colab": {
          "base_uri": "https://localhost:8080/"
        }
      },
      "outputs": [
        {
          "output_type": "stream",
          "name": "stdout",
          "text": [
            "4.444444444444445\n"
          ]
        }
      ],
      "source": [
        "f = 40\n",
        "C = (f - 32) * 5/9\n",
        "print(C)"
      ]
    },
    {
      "cell_type": "markdown",
      "id": "imported-yeast",
      "metadata": {
        "id": "imported-yeast"
      },
      "source": [
        "## Print User's Name\n",
        "Write a Python program which accepts the user's first and last name and prints them in reverse order with a space between them. For example, if the user enters `John Doe`, the program should print `Doe John`. Note that you can use the `input()` function to take user's inputs."
      ]
    },
    {
      "cell_type": "code",
      "execution_count": 45,
      "id": "inner-arabic",
      "metadata": {
        "id": "inner-arabic",
        "outputId": "fd2d359c-6da6-4740-a1a8-352e301f612d",
        "colab": {
          "base_uri": "https://localhost:8080/"
        }
      },
      "outputs": [
        {
          "output_type": "stream",
          "name": "stdout",
          "text": [
            "Nicola Rami\n"
          ]
        }
      ],
      "source": [
        "firstname = \"Rami\"\n",
        "lastname = \"Nicola\"\n",
        "print(lastname, firstname)"
      ]
    },
    {
      "cell_type": "code",
      "source": [
        "firstname = input(\"enter first name: \")\n",
        "lastname = input(\"enter last name: \")\n",
        "print(lastname, firstname)"
      ],
      "metadata": {
        "id": "MTesMkJCzpxS",
        "outputId": "00216361-5a4a-40bb-8b50-0e0d3164cf8f",
        "colab": {
          "base_uri": "https://localhost:8080/"
        }
      },
      "id": "MTesMkJCzpxS",
      "execution_count": 14,
      "outputs": [
        {
          "output_type": "stream",
          "name": "stdout",
          "text": [
            "enter first name: rami\n",
            "enter last name: nicola\n",
            "nicola rami\n"
          ]
        }
      ]
    },
    {
      "cell_type": "markdown",
      "id": "3d187e0e",
      "metadata": {
        "id": "3d187e0e"
      },
      "source": [
        "## Read a Text File\n",
        "Write a Python program that opens a text file named `my_file.txt` and writes `Hello world!` in that file."
      ]
    },
    {
      "cell_type": "code",
      "source": [
        "with open(\"my_file.txt\", \"w\") as file:\n",
        "  file.write(\"hello world!\")"
      ],
      "metadata": {
        "id": "_-KmbR5cqakd"
      },
      "id": "_-KmbR5cqakd",
      "execution_count": 6,
      "outputs": []
    },
    {
      "cell_type": "code",
      "source": [
        "f = open(\"my_file.txt\",\"w\")\n",
        "f.write(\"Hello world!2\")\n",
        "f.close()"
      ],
      "metadata": {
        "id": "KP1qopbBQjgW"
      },
      "id": "KP1qopbBQjgW",
      "execution_count": 7,
      "outputs": []
    }
  ],
  "metadata": {
    "kernelspec": {
      "display_name": "Python 3",
      "language": "python",
      "name": "python3"
    },
    "language_info": {
      "codemirror_mode": {
        "name": "ipython",
        "version": 3
      },
      "file_extension": ".py",
      "mimetype": "text/x-python",
      "name": "python",
      "nbconvert_exporter": "python",
      "pygments_lexer": "ipython3",
      "version": "3.8.5"
    },
    "colab": {
      "provenance": []
    }
  },
  "nbformat": 4,
  "nbformat_minor": 5
}
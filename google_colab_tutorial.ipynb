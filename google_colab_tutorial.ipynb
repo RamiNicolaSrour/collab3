{
  "nbformat": 4,
  "nbformat_minor": 0,
  "metadata": {
    "colab": {
      "provenance": [],
      "include_colab_link": true
    },
    "kernelspec": {
      "name": "python3",
      "display_name": "Python 3"
    },
    "language_info": {
      "name": "python"
    }
  },
  "cells": [
    {
      "cell_type": "markdown",
      "metadata": {
        "id": "view-in-github",
        "colab_type": "text"
      },
      "source": [
        "<a href=\"https://colab.research.google.com/github/RamiNicolaSrour/collab3/blob/main/google_colab_tutorial.ipynb\" target=\"_parent\"><img src=\"https://colab.research.google.com/assets/colab-badge.svg\" alt=\"Open In Colab\"/></a>"
      ]
    },
    {
      "cell_type": "markdown",
      "source": [],
      "metadata": {
        "id": "OFlt8uRqYT_P"
      }
    },
    {
      "cell_type": "code",
      "source": [
        "# git conneciton text"
      ],
      "metadata": {
        "id": "OKENyV4CYUyE"
      },
      "execution_count": null,
      "outputs": []
    },
    {
      "cell_type": "code",
      "source": [
        "print(\"hello G\")"
      ],
      "metadata": {
        "colab": {
          "base_uri": "https://localhost:8080/"
        },
        "id": "TmVVUOs8YGHg",
        "outputId": "4b58ba83-6766-43c3-8082-d3607fe65dfd"
      },
      "execution_count": null,
      "outputs": [
        {
          "output_type": "stream",
          "name": "stdout",
          "text": [
            "hello G\n"
          ]
        }
      ]
    },
    {
      "cell_type": "code",
      "source": [
        "print(\"edit\")"
      ],
      "metadata": {
        "id": "P0xiQGjWbwaV",
        "outputId": "85b5cc4f-ab6b-464e-b0a5-28a5953255c6",
        "colab": {
          "base_uri": "https://localhost:8080/"
        }
      },
      "execution_count": null,
      "outputs": [
        {
          "output_type": "stream",
          "name": "stdout",
          "text": [
            "edit\n"
          ]
        }
      ]
    }
  ]
}